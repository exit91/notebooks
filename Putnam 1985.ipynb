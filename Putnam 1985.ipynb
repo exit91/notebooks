{
 "cells": [
  {
   "cell_type": "markdown",
   "metadata": {},
   "source": [
    "# Solutions to Putnam 1985\n",
    "\n",
    "https://kskedlaya.org/putnam-archive/1985.pdf\n",
    "\n",
    "## A1\n",
    "> Determine, with proof, the number of ordered triples $(A_1,A_2,A_3)$ of sets which have the properties that\n",
    "> (i) $A_1 \\cup A_2 \\cup A_3 = [10]$\n",
    "> (ii) $A_1 \\cap A_2 \\cap A_3 = \\emptyset$\n",
    "> Express your answer in the form $2^a3^b5^c7^d$ where $a,b,c,d$ are nonnegative integers."
   ]
  },
  {
   "cell_type": "markdown",
   "metadata": {},
   "source": [
    "We define $\\psi(k,n)$ to be the number of $k$-tuples whose union is $[n]$ and whose intersection is $\\emptyset$.\n",
    "Of course $\\psi(3,10)$ is the answer we desire, and which we will derive using properties of $\\psi$.\n",
    "\n",
    "The following identities hold:\n",
    "1. $\\psi(k,0) = 1$, trivial\n",
    "2. $\\psi(k,n+1) = \\sum_{j=1}^{k-1} \\binom{k}{j} \\psi(k,n)$, by taking a $k$-tuple from $\\psi(k,n)$ and adding the element $n+1$ to $j$ of the tuple entries. In order to satisfy (i) $j \\neq 0$ and for (ii) we need $j \\neq k$.\n",
    "3. $\\psi(k,n+1) = (2^k-2)\\psi(k,n)$, by (2) and $\\sum_{j=0}^k \\binom{k}{j} = 2^k$.\n",
    "4. $\\psi(k,n+1) = (2^k-2)^n$, by induction step (3) and anchor (1).\n",
    "\n",
    "Thus, with $n=10, k=3$\n",
    "$$\\psi(3,10) = (2^3-2)^{10} = 6^{10} = 2^{10} 3^{10}$$"
   ]
  },
  {
   "cell_type": "code",
   "execution_count": 191,
   "metadata": {},
   "outputs": [
    {
     "data": {
      "text/html": [
       "<html><script type=\"math/tex; mode=display\">\\newcommand{\\Bold}[1]{\\mathbf{#1}}\\phi(4,4) - (2^4-2)^4 = 0</script></html>"
      ],
      "text/plain": [
       "\\phi(4,4) - (2^4-2)^4 = 0"
      ]
     },
     "metadata": {},
     "output_type": "display_data"
    },
    {
     "data": {
      "text/html": [
       "<html><script type=\"math/tex; mode=display\">\\newcommand{\\Bold}[1]{\\mathbf{#1}}\\phi(2,5) - (2^2-2)^5 = 0</script></html>"
      ],
      "text/plain": [
       "\\phi(2,5) - (2^2-2)^5 = 0"
      ]
     },
     "metadata": {},
     "output_type": "display_data"
    },
    {
     "data": {
      "text/html": [
       "<html><script type=\"math/tex; mode=display\">\\newcommand{\\Bold}[1]{\\mathbf{#1}}\\phi(2,1) - (2^2-2)^1 = 0</script></html>"
      ],
      "text/plain": [
       "\\phi(2,1) - (2^2-2)^1 = 0"
      ]
     },
     "metadata": {},
     "output_type": "display_data"
    },
    {
     "data": {
      "text/html": [
       "<html><script type=\"math/tex; mode=display\">\\newcommand{\\Bold}[1]{\\mathbf{#1}}\\phi(3,1) - (2^3-2)^1 = 0</script></html>"
      ],
      "text/plain": [
       "\\phi(3,1) - (2^3-2)^1 = 0"
      ]
     },
     "metadata": {},
     "output_type": "display_data"
    },
    {
     "data": {
      "text/html": [
       "<html><script type=\"math/tex; mode=display\">\\newcommand{\\Bold}[1]{\\mathbf{#1}}\\phi(2,0) - (2^2-2)^0 = 0</script></html>"
      ],
      "text/plain": [
       "\\phi(2,0) - (2^2-2)^0 = 0"
      ]
     },
     "metadata": {},
     "output_type": "display_data"
    },
    {
     "data": {
      "text/html": [
       "<html><script type=\"math/tex; mode=display\">\\newcommand{\\Bold}[1]{\\mathbf{#1}}\\phi(3,0) - (2^3-2)^0 = 0</script></html>"
      ],
      "text/plain": [
       "\\phi(3,0) - (2^3-2)^0 = 0"
      ]
     },
     "metadata": {},
     "output_type": "display_data"
    },
    {
     "data": {
      "text/html": [
       "<html><script type=\"math/tex; mode=display\">\\newcommand{\\Bold}[1]{\\mathbf{#1}}\\phi(1,2) - (2^1-2)^2 = 0</script></html>"
      ],
      "text/plain": [
       "\\phi(1,2) - (2^1-2)^2 = 0"
      ]
     },
     "metadata": {},
     "output_type": "display_data"
    },
    {
     "data": {
      "text/html": [
       "<html><script type=\"math/tex; mode=display\">\\newcommand{\\Bold}[1]{\\mathbf{#1}}\\phi(5,0) - (2^5-2)^0 = 0</script></html>"
      ],
      "text/plain": [
       "\\phi(5,0) - (2^5-2)^0 = 0"
      ]
     },
     "metadata": {},
     "output_type": "display_data"
    },
    {
     "data": {
      "text/html": [
       "<html><script type=\"math/tex; mode=display\">\\newcommand{\\Bold}[1]{\\mathbf{#1}}\\phi(3,4) - (2^3-2)^4 = 0</script></html>"
      ],
      "text/plain": [
       "\\phi(3,4) - (2^3-2)^4 = 0"
      ]
     },
     "metadata": {},
     "output_type": "display_data"
    },
    {
     "data": {
      "text/html": [
       "<html><script type=\"math/tex; mode=display\">\\newcommand{\\Bold}[1]{\\mathbf{#1}}\\phi(1,1) - (2^1-2)^1 = 0</script></html>"
      ],
      "text/plain": [
       "\\phi(1,1) - (2^1-2)^1 = 0"
      ]
     },
     "metadata": {},
     "output_type": "display_data"
    }
   ],
   "source": [
    "# SANITY CHECK\n",
    "%display latex\n",
    "\n",
    "def phi_(k,n):\n",
    "    i0 = set(range(n))\n",
    "    u0 = set()\n",
    "    def rec(k,i,u):\n",
    "        if k <= 0:\n",
    "            if u == i0 and not i:\n",
    "                return 1\n",
    "            else:\n",
    "                return 0\n",
    "        else:\n",
    "            return sum([\n",
    "                rec(k-1,\n",
    "                    i.intersection(a),\n",
    "                    u.union(a))\n",
    "                for a in subsets(i0)\n",
    "            ])\n",
    "    return rec(k,i0,u0)\n",
    "\n",
    "for _ in range(10):\n",
    "    k = 1 + floor(5*random())\n",
    "    n = floor(6*random())\n",
    "    display(\"\\phi(\"+str(k)+\",\"+str(n)+\\\n",
    "            \") - (2^\"+str(k)+\"-2)^\"+str(n)+\\\n",
    "            \" = \" + latex(phi_(k,n) - (2^k-2)^n))"
   ]
  },
  {
   "cell_type": "markdown",
   "metadata": {},
   "source": [
    "## A3\n",
    "\n",
    "> Let $d$ be a real number.\n",
    "> For each integer $m \\geq 0$, define a sequence $\\{a_m(j)\\},j=0,1,2,...$ by the condition\n",
    "> \\begin{align*}\n",
    " a_{m}(0) =& 2^{-m}d, \\\\\n",
    " a_{m}(j+1) =& (a_m(j))^2 + 2a_m(j), \\quad j \\geq 0\n",
    " \\end{align*}\n",
    "> Evaluate $\\lim_{n\\to \\infty} a_n(n)$."
   ]
  },
  {
   "cell_type": "code",
   "execution_count": 192,
   "metadata": {},
   "outputs": [
    {
     "data": {
      "text/html": [
       "<html><script type=\"math/tex; mode=display\">\\newcommand{\\Bold}[1]{\\mathbf{#1}}\\left[\\verb|0x1.0000000000000p+0|, \\verb|0x1.4000000000000p+0|, \\verb|0x1.7100000000000p+0|, \\verb|0x1.90d7410000000p+0|, \\verb|0x1.a34f4831603f8p+0|, \\verb|0x1.ad4f39a164e3fp+0|, \\verb|0x1.b28532e54c3abp+0|, \\verb|0x1.b52e6267a9c41p+0|, \\verb|0x1.b6869e7c7d8c4p+0|, \\verb|0x1.b733a8a4b266fp+0|\\right]</script></html>"
      ],
      "text/plain": [
       "['0x1.0000000000000p+0',\n",
       " '0x1.4000000000000p+0',\n",
       " '0x1.7100000000000p+0',\n",
       " '0x1.90d7410000000p+0',\n",
       " '0x1.a34f4831603f8p+0',\n",
       " '0x1.ad4f39a164e3fp+0',\n",
       " '0x1.b28532e54c3abp+0',\n",
       " '0x1.b52e6267a9c41p+0',\n",
       " '0x1.b6869e7c7d8c4p+0',\n",
       " '0x1.b733a8a4b266fp+0']"
      ]
     },
     "execution_count": 192,
     "metadata": {},
     "output_type": "execute_result"
    }
   ],
   "source": [
    "d = 1\n",
    "term = x*(x+2)\n",
    "def f(m,j):\n",
    "    if j <= 0:\n",
    "        return 2^(-m)*d\n",
    "    else:\n",
    "        u = f(m,j-1)\n",
    "        return u^2 + 2*u\n",
    "    \n",
    "[float(f(n,n)).hex() for n in range(10)]"
   ]
  },
  {
   "cell_type": "markdown",
   "metadata": {},
   "source": [
    "$$ u_j = a_{j+1}/a_j $$\n",
    "$$ u_{j+1} = a_{j} + 2 $$\n",
    "$$ a_{j+1} = u_j a_j $$\n",
    "$$ (u,a) \\to (a+2,ua) $$"
   ]
  },
  {
   "cell_type": "markdown",
   "metadata": {},
   "source": [
    "$$ U_j = \\log(u_j), A_j = \\log(A_j) $$\n",
    "$$ U_{j+1} = \\log(\\exp(A_j) + 2) $$\n",
    "$$ A_{j+1} = U_j + A_j $$\n",
    "\n",
    "Looks approximately like a Fibonacci"
   ]
  },
  {
   "cell_type": "code",
   "execution_count": 193,
   "metadata": {},
   "outputs": [
    {
     "data": {
      "text/html": [
       "<html><script type=\"math/tex; mode=display\">\\newcommand{\\Bold}[1]{\\mathbf{#1}}\\verb|0x1.9e3779b97f4a8p+0|</script></html>"
      ],
      "text/plain": [
       "'0x1.9e3779b97f4a8p+0'"
      ]
     },
     "execution_count": 193,
     "metadata": {},
     "output_type": "execute_result"
    }
   ],
   "source": [
    "num = float((1+sqrt(5))/2)\n",
    "num.hex()"
   ]
  },
  {
   "cell_type": "markdown",
   "metadata": {},
   "source": [
    "## A4"
   ]
  },
  {
   "cell_type": "code",
   "execution_count": 194,
   "metadata": {},
   "outputs": [
    {
     "data": {
      "text/html": [
       "<html><script type=\"math/tex; mode=display\">\\newcommand{\\Bold}[1]{\\mathbf{#1}}\\left[\\left(0, 1\\right), \\left(1, 3\\right), \\left(2, 9\\right), \\left(3, 27\\right), \\left(4, 81\\right), \\left(5, 43\\right), \\left(6, 29\\right), \\left(7, 87\\right), \\left(8, 61\\right), \\left(9, 83\\right), \\left(10, 49\\right), \\left(11, 47\\right), \\left(12, 41\\right), \\left(13, 23\\right), \\left(14, 69\\right), \\left(15, 7\\right), \\left(16, 21\\right), \\left(17, 63\\right), \\left(18, 89\\right), \\left(19, 67\\right), \\left(20, 1\\right)\\right]</script></html>"
      ],
      "text/plain": [
       "[(0, 1),\n",
       " (1, 3),\n",
       " (2, 9),\n",
       " (3, 27),\n",
       " (4, 81),\n",
       " (5, 43),\n",
       " (6, 29),\n",
       " (7, 87),\n",
       " (8, 61),\n",
       " (9, 83),\n",
       " (10, 49),\n",
       " (11, 47),\n",
       " (12, 41),\n",
       " (13, 23),\n",
       " (14, 69),\n",
       " (15, 7),\n",
       " (16, 21),\n",
       " (17, 63),\n",
       " (18, 89),\n",
       " (19, 67),\n",
       " (20, 1)]"
      ]
     },
     "execution_count": 194,
     "metadata": {},
     "output_type": "execute_result"
    }
   ],
   "source": [
    "[(k,3^k % 100) for k in range(21)]"
   ]
  },
  {
   "cell_type": "markdown",
   "metadata": {},
   "source": [
    "$3^{20} = 1 \\mod 100$\n",
    "\n",
    "Hence $3^x \\mod 100 = 3^{x \\mod 20} = 3^{x \\mod 100}$.\n",
    "It thus suffices to consider the sequence $a_n \\mod 100$."
   ]
  },
  {
   "cell_type": "code",
   "execution_count": 195,
   "metadata": {},
   "outputs": [
    {
     "data": {
      "text/html": [
       "<html><script type=\"math/tex; mode=display\">\\newcommand{\\Bold}[1]{\\mathbf{#1}}\\mathrm{True}</script></html>"
      ],
      "text/plain": [
       "True"
      ]
     },
     "execution_count": 195,
     "metadata": {},
     "output_type": "execute_result"
    }
   ],
   "source": [
    "3^3 % 100 == 27\n",
    "3^27 % 100 == 3^7 % 100 == 87\n",
    "3^87 % 100 == 3^7 % 100 == 87"
   ]
  },
  {
   "cell_type": "markdown",
   "metadata": {},
   "source": [
    "## A5\n",
    "\n",
    "Let $\\delta^a$ denote the function $x\\in \\mathbb{R} \\mapsto \\exp(iax)$.\n",
    "The following laws hold:\n",
    "\n",
    "1. $\\delta^a \\delta^b = \\delta^{a+b}$\n",
    "2. $(\\delta^a)^{-1} = \\delta^{-a}$\n",
    "3. $2\\cos(ax) = (\\delta^{-a} + \\delta^{a})(x)$\n",
    "4. $2\\sin(ax) = i(\\delta^{-a} - \\delta^{a})(x)$\n",
    "\n",
    "We can derive formulas for products of cosines:\n",
    "Let $a_1,...,a_n$ be a sequence of real numbers.\n",
    "\n",
    "$$\\prod_{k=1}^n \\cos(a_k x)\n",
    "= 2^{-n}\\prod_{k=1}^n \\left(\\delta^{-a_k} + \\delta^{a_k}\\right)\n",
    "= 2^{-n}\\sum_{s\\in \\{-1,1\\}^n} \\delta^{\\sum_{k=1}^n s_k a_k}\n",
    "$$ \n",
    "\n",
    "Pairing up $s$ with $-s$ we can write this as\n",
    "$$ ...\n",
    "= 2^{1-n}\\sum_{s\\in \\{-1,1\\}^n} \\cos\\left(x\\sum_{k=1}^n s_k a_k\\right)\n",
    "$$\n",
    "\n",
    "All the summands vanish after applying the integral operator $\\int_0^{2\\pi}\\cdots\\,dx$, except when there exist $s$ for which $\\sum_{k=1}^n s_k a_k = 0$.\n",
    "\n",
    "Let $V = \\left\\{ s \\in \\{-1,1\\}^n \\mid \\sum_{k=1}^n s_k a_k = 0\\right\\}$\n",
    "\n",
    "Then\n",
    "$$\\int_0^{2\\pi} \\sum_{s\\in \\{-1,1\\}^n} \\cos\\left(x\\sum_{k=1}^n s_k a_k\\right) \\,dx\n",
    "= \\int_0^{2\\pi} \\sum_{s\\in V} \\cos\\left(0\\right) \\,dx\n",
    "= |V| 2\\pi\n",
    "$$\n"
   ]
  },
  {
   "cell_type": "markdown",
   "metadata": {},
   "source": [
    "For our problem consider $n=m$ and $a_k = k$ for all $1 \\leq k \\leq m$ as well as\n",
    "$$V =V_m = \\left\\{ s \\in \\{-1,1\\}^m \\mid \\sum_{k=1}^m k s_k  = 0\\right\\}$$\n",
    "\n",
    "Then\n",
    "$$ I_m = 2^{2-m}\\pi|V_m|$$\n",
    "\n",
    "**Case 1.** If $m(m+1) \\equiv 2 \\mod 4 \\iff (m \\mod 4) \\in \\{\\bar 1, \\bar 2\\}$, then\n",
    "$$ \\sum_{k=1}^m k s_k \\equiv \\frac{(m+1)m}{2} \\equiv 1 \\mod 2$$\n",
    "so $V_m = \\emptyset$.\n",
    "\n",
    "**Case 2.** However, if $m(m+1) \\equiv 0 \\iff (m \\mod 4) \\in \\{\\bar 0, \\bar 3\\}$, we further distinguish:\n",
    "\n",
    "**Case 2a.** $m\\equiv 0 \\mod 4$. Just pair up $k$ with $m-k+1$ to get an even number of summands $m+1$, which cancel each other out, e.g. $1,2,3,4 \\to (1+4),(2+3) \\to (1+4)-(2+3) = 0$.\n",
    "\n",
    "**Case 2b.** $m\\equiv 3 \\mod 4$. Ignore the summand $m$ and pair up $k$ with $m-k$ to get an odd number of summands $m$. The left-over summand makes $m$ makes it an even number of summands, e.g. $1,2,3,4,5,6,7 \\to (1+6),(2+5),(3+4),7 \\to (1+6) + (2+5) - (3+4) - 7 = 0$."
   ]
  },
  {
   "cell_type": "code",
   "execution_count": 204,
   "metadata": {},
   "outputs": [
    {
     "data": {
      "text/html": [
       "<html><script type=\"math/tex; mode=display\">\\newcommand{\\Bold}[1]{\\mathbf{#1}}I_{1} \\neq 0</script></html>"
      ],
      "text/plain": [
       "I_{1} \\neq 0"
      ]
     },
     "metadata": {},
     "output_type": "display_data"
    },
    {
     "data": {
      "text/html": [
       "<html><script type=\"math/tex; mode=display\">\\newcommand{\\Bold}[1]{\\mathbf{#1}}I_{2} \\neq 0</script></html>"
      ],
      "text/plain": [
       "I_{2} \\neq 0"
      ]
     },
     "metadata": {},
     "output_type": "display_data"
    },
    {
     "data": {
      "text/html": [
       "<html><script type=\"math/tex; mode=display\">\\newcommand{\\Bold}[1]{\\mathbf{#1}}I_{3} = 0</script></html>"
      ],
      "text/plain": [
       "I_{3} = 0"
      ]
     },
     "metadata": {},
     "output_type": "display_data"
    },
    {
     "data": {
      "text/html": [
       "<html><script type=\"math/tex; mode=display\">\\newcommand{\\Bold}[1]{\\mathbf{#1}}I_{4} = 0</script></html>"
      ],
      "text/plain": [
       "I_{4} = 0"
      ]
     },
     "metadata": {},
     "output_type": "display_data"
    },
    {
     "data": {
      "text/html": [
       "<html><script type=\"math/tex; mode=display\">\\newcommand{\\Bold}[1]{\\mathbf{#1}}I_{5} \\neq 0</script></html>"
      ],
      "text/plain": [
       "I_{5} \\neq 0"
      ]
     },
     "metadata": {},
     "output_type": "display_data"
    },
    {
     "data": {
      "text/html": [
       "<html><script type=\"math/tex; mode=display\">\\newcommand{\\Bold}[1]{\\mathbf{#1}}I_{6} \\neq 0</script></html>"
      ],
      "text/plain": [
       "I_{6} \\neq 0"
      ]
     },
     "metadata": {},
     "output_type": "display_data"
    },
    {
     "data": {
      "text/html": [
       "<html><script type=\"math/tex; mode=display\">\\newcommand{\\Bold}[1]{\\mathbf{#1}}I_{7} = 0</script></html>"
      ],
      "text/plain": [
       "I_{7} = 0"
      ]
     },
     "metadata": {},
     "output_type": "display_data"
    },
    {
     "data": {
      "text/html": [
       "<html><script type=\"math/tex; mode=display\">\\newcommand{\\Bold}[1]{\\mathbf{#1}}I_{8} = 0</script></html>"
      ],
      "text/plain": [
       "I_{8} = 0"
      ]
     },
     "metadata": {},
     "output_type": "display_data"
    },
    {
     "data": {
      "text/html": [
       "<html><script type=\"math/tex; mode=display\">\\newcommand{\\Bold}[1]{\\mathbf{#1}}I_{9} \\neq 0</script></html>"
      ],
      "text/plain": [
       "I_{9} \\neq 0"
      ]
     },
     "metadata": {},
     "output_type": "display_data"
    },
    {
     "data": {
      "text/html": [
       "<html><script type=\"math/tex; mode=display\">\\newcommand{\\Bold}[1]{\\mathbf{#1}}I_{10} \\neq 0</script></html>"
      ],
      "text/plain": [
       "I_{10} \\neq 0"
      ]
     },
     "metadata": {},
     "output_type": "display_data"
    }
   ],
   "source": [
    "%display latex\n",
    "for m in range(1,11):\n",
    "    if m%4 in [0,3]:\n",
    "        display(\"I_{\"+str(m)+\"} = \"+latex(0))\n",
    "    else:\n",
    "        display(\"I_{\"+str(m)+\"} \\\\neq \"+latex(0))"
   ]
  },
  {
   "cell_type": "markdown",
   "metadata": {},
   "source": [
    "# A6"
   ]
  },
  {
   "cell_type": "markdown",
   "metadata": {},
   "source": [
    "## B5\n",
    "\n",
    "$$ u = t^{1/2}, du = t^{-1/2}dt/2 $$\n",
    "\n",
    "$$ \\int_0^\\infty e^{-1985(t+t^{-1})} t^{-1/2}\\,dt\n",
    "= 2\\int_0^\\infty e^{-1985(u^2+u^{-2} - 2 + 2)}\\,du\n",
    "= 2e^{-2\\cdot 1985} \\int_0^\\infty e^{-1985(1/u - u)^2} \\,du\n",
    "= e^{-2\\cdot 1985} \\int_{-\\infty}^\\infty e^{-1985(1/u - u)^2} \\,du$$\n",
    "\n",
    "$$ s = 1/u - u, ds = -(1 + u^2)/u^2$$"
   ]
  },
  {
   "cell_type": "code",
   "execution_count": 205,
   "metadata": {},
   "outputs": [
    {
     "data": {
      "text/html": [
       "<html><script type=\"math/tex; mode=display\">\\newcommand{\\Bold}[1]{\\mathbf{#1}}\\frac{1}{1985} \\, \\sqrt{1985} \\sqrt{\\pi} e^{\\left(-3970\\right)}</script></html>"
      ],
      "text/plain": [
       "1/1985*sqrt(1985)*sqrt(pi)*e^(-3970)"
      ]
     },
     "execution_count": 205,
     "metadata": {},
     "output_type": "execute_result"
    }
   ],
   "source": [
    "var('x')\n",
    "integral(exp(-1985*(x^2/4+4*x^(-2))),x,0,oo)"
   ]
  },
  {
   "cell_type": "code",
   "execution_count": 213,
   "metadata": {},
   "outputs": [
    {
     "data": {
      "image/png": "[encoded data removed]",
      "text/plain": [
       "Graphics object consisting of 1 graphics primitive"
      ]
     },
     "execution_count": 213,
     "metadata": {},
     "output_type": "execute_result"
    }
   ],
   "source": [
    "plot(1/x-x/1,x,-2,2,ymin=-10,ymax=10)"
   ]
  },
  {
   "cell_type": "markdown",
   "metadata": {},
   "source": [
    "## B6"
   ]
  },
  {
   "cell_type": "code",
   "execution_count": null,
   "metadata": {},
   "outputs": [],
   "source": []
  }
 ],
 "metadata": {
  "kernelspec": {
   "display_name": "SageMath 8.7",
   "language": "",
   "name": "sagemath"
  },
  "language_info": {
   "codemirror_mode": {
    "name": "ipython",
    "version": 2
   },
   "file_extension": ".py",
   "mimetype": "text/x-python",
   "name": "python",
   "nbconvert_exporter": "python",
   "pygments_lexer": "ipython2",
   "version": "2.7.16"
  }
 },
 "nbformat": 4,
 "nbformat_minor": 2
}
