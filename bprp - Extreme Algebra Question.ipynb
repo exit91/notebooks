{
 "cells": [
  {
   "cell_type": "markdown",
   "metadata": {},
   "source": [
    "# Regarding BPRP's Extreme Algebra Question\n",
    "\n",
    "https://www.youtube.com/watch?v=1TBVeuOcY1w\n",
    "\n",
    "> If\n",
    "> $$a + b + c = 1$$\n",
    "> $$a^2 + b^2 + c^2 = 2$$\n",
    "> $$a^3 + b^3 + c^3 = 3$$\n",
    "> then what must be\n",
    "> $$a^5 + b^5 + c^5 = ?$$\n",
    "\n",
    "I call upon the power of sagemath to aid me in this endeavour!\n",
    "\n",
    "First we eliminate $c$ via $1-a-b$ and get two new equations $X_1 = 0$ and $X_2 = 0$:"
   ]
  },
  {
   "cell_type": "code",
   "execution_count": 19,
   "metadata": {},
   "outputs": [
    {
     "data": {
      "text/html": [
       "<html><script type=\"math/tex; mode=display\">\\newcommand{\\Bold}[1]{\\mathbf{#1}}2 \\, a^{2} + 2 \\, a b + 2 \\, b^{2} - 2 \\, a - 2 \\, b - 1 = 0</script></html>"
      ],
      "text/plain": [
       "2*a^2 + 2*a*b + 2*b^2 - 2*a - 2*b - 1 == 0"
      ]
     },
     "metadata": {},
     "output_type": "display_data"
    },
    {
     "data": {
      "text/html": [
       "<html><script type=\"math/tex; mode=display\">\\newcommand{\\Bold}[1]{\\mathbf{#1}}-3 \\, a^{2} b - 3 \\, a b^{2} + 3 \\, a^{2} + 6 \\, a b + 3 \\, b^{2} - 3 \\, a - 3 \\, b - 2 = 0</script></html>"
      ],
      "text/plain": [
       "-3*a^2*b - 3*a*b^2 + 3*a^2 + 6*a*b + 3*b^2 - 3*a - 3*b - 2 == 0"
      ]
     },
     "metadata": {},
     "output_type": "display_data"
    }
   ],
   "source": [
    "% display latex\n",
    "a,b,c = var('a b c')\n",
    "X1 = expand(a^2+b^2+(1-a-b)^2 - 2)\n",
    "X2 = expand(a^3+b^3+(1-a-b)^3 - 3)\n",
    "display(X1 == 0)\n",
    "display(X2 == 0)"
   ]
  },
  {
   "cell_type": "markdown",
   "metadata": {},
   "source": [
    "After some massaging we get a new equation $X_3 = 2X_2 + 3(a-1)X_1$, which is a polynomial in just $a$:"
   ]
  },
  {
   "cell_type": "code",
   "execution_count": 18,
   "metadata": {},
   "outputs": [
    {
     "data": {
      "text/html": [
       "<html><script type=\"math/tex; mode=display\">\\newcommand{\\Bold}[1]{\\mathbf{#1}}6 \\, a^{3} - 6 \\, a^{2} - 3 \\, a - 1</script></html>"
      ],
      "text/plain": [
       "6*a^3 - 6*a^2 - 3*a - 1"
      ]
     },
     "metadata": {},
     "output_type": "display_data"
    },
    {
     "data": {
      "image/png": "[encoded data removed]",
      "text/plain": [
       "Graphics object consisting of 1 graphics primitive"
      ]
     },
     "execution_count": 18,
     "metadata": {},
     "output_type": "execute_result"
    }
   ],
   "source": [
    "X3 = expand(X2*2 + 3*(a-1)*X1)\n",
    "display(X3)\n",
    "plot(X3,-1,2)"
   ]
  },
  {
   "cell_type": "markdown",
   "metadata": {},
   "source": [
    "Looking at the graph we see that this equation has one real root $r_3$ and two conjugate complex roots $r_2 = \\overline{r_1}$."
   ]
  },
  {
   "cell_type": "code",
   "execution_count": 9,
   "metadata": {},
   "outputs": [
    {
     "data": {
      "text/html": [
       "<html><script type=\"math/tex; mode=display\">\\newcommand{\\Bold}[1]{\\mathbf{#1}}6 \\, a^{3} - 6 \\, a^{2} - 3 \\, a - 1</script></html>"
      ],
      "text/plain": [
       "6*a^3 - 6*a^2 - 3*a - 1"
      ]
     },
     "metadata": {},
     "output_type": "display_data"
    },
    {
     "data": {
      "text/html": [
       "<html><script type=\"math/tex; mode=display\">\\newcommand{\\Bold}[1]{\\mathbf{#1}}-\\frac{1}{6} \\, \\left(\\frac{1}{4}\\right)^{\\frac{1}{3}} {\\left(3 \\, \\sqrt{13} \\sqrt{2} + 22\\right)}^{\\frac{1}{3}} {\\left(i \\, \\sqrt{3} + 1\\right)} - \\frac{5 \\, \\left(\\frac{1}{4}\\right)^{\\frac{2}{3}} {\\left(-i \\, \\sqrt{3} + 1\\right)}}{3 \\, {\\left(3 \\, \\sqrt{13} \\sqrt{2} + 22\\right)}^{\\frac{1}{3}}} + \\frac{1}{3}</script></html>"
      ],
      "text/plain": [
       "-1/6*(1/4)^(1/3)*(3*sqrt(13)*sqrt(2) + 22)^(1/3)*(I*sqrt(3) + 1) - 5/3*(1/4)^(2/3)*(-I*sqrt(3) + 1)/(3*sqrt(13)*sqrt(2) + 22)^(1/3) + 1/3"
      ]
     },
     "metadata": {},
     "output_type": "display_data"
    },
    {
     "data": {
      "text/html": [
       "<html><script type=\"math/tex; mode=display\">\\newcommand{\\Bold}[1]{\\mathbf{#1}}-\\frac{1}{6} \\, \\left(\\frac{1}{4}\\right)^{\\frac{1}{3}} {\\left(3 \\, \\sqrt{13} \\sqrt{2} + 22\\right)}^{\\frac{1}{3}} {\\left(-i \\, \\sqrt{3} + 1\\right)} - \\frac{5 \\, \\left(\\frac{1}{4}\\right)^{\\frac{2}{3}} {\\left(i \\, \\sqrt{3} + 1\\right)}}{3 \\, {\\left(3 \\, \\sqrt{13} \\sqrt{2} + 22\\right)}^{\\frac{1}{3}}} + \\frac{1}{3}</script></html>"
      ],
      "text/plain": [
       "-1/6*(1/4)^(1/3)*(3*sqrt(13)*sqrt(2) + 22)^(1/3)*(-I*sqrt(3) + 1) - 5/3*(1/4)^(2/3)*(I*sqrt(3) + 1)/(3*sqrt(13)*sqrt(2) + 22)^(1/3) + 1/3"
      ]
     },
     "metadata": {},
     "output_type": "display_data"
    },
    {
     "data": {
      "text/html": [
       "<html><script type=\"math/tex; mode=display\">\\newcommand{\\Bold}[1]{\\mathbf{#1}}\\frac{1}{3} \\, \\left(\\frac{1}{4}\\right)^{\\frac{1}{3}} {\\left(3 \\, \\sqrt{13} \\sqrt{2} + 22\\right)}^{\\frac{1}{3}} + \\frac{10 \\, \\left(\\frac{1}{4}\\right)^{\\frac{2}{3}}}{3 \\, {\\left(3 \\, \\sqrt{13} \\sqrt{2} + 22\\right)}^{\\frac{1}{3}}} + \\frac{1}{3}</script></html>"
      ],
      "text/plain": [
       "1/3*(1/4)^(1/3)*(3*sqrt(13)*sqrt(2) + 22)^(1/3) + 10/3*(1/4)^(2/3)/(3*sqrt(13)*sqrt(2) + 22)^(1/3) + 1/3"
      ]
     },
     "metadata": {},
     "output_type": "display_data"
    },
    {
     "data": {
      "text/html": [
       "<html><script type=\"math/tex; mode=display\">\\newcommand{\\Bold}[1]{\\mathbf{#1}}-\\frac{1}{7962624} \\, {\\left(4^{\\frac{2}{3}} {\\left(3 \\, \\sqrt{13} \\sqrt{2} + 22\\right)}^{\\frac{1}{3}} {\\left(i \\, \\sqrt{3} + 1\\right)} - \\frac{10 \\cdot 4^{\\frac{1}{3}} {\\left(i \\, \\sqrt{3} - 1\\right)}}{{\\left(3 \\, \\sqrt{13} \\sqrt{2} + 22\\right)}^{\\frac{1}{3}}} - 8\\right)}^{5} - \\frac{1}{7962624} \\, {\\left(4^{\\frac{2}{3}} {\\left(3 \\, \\sqrt{13} \\sqrt{2} + 22\\right)}^{\\frac{1}{3}} {\\left(-i \\, \\sqrt{3} + 1\\right)} - \\frac{10 \\cdot 4^{\\frac{1}{3}} {\\left(-i \\, \\sqrt{3} - 1\\right)}}{{\\left(3 \\, \\sqrt{13} \\sqrt{2} + 22\\right)}^{\\frac{1}{3}}} - 8\\right)}^{5} + \\frac{1}{248832} \\, {\\left(4^{\\frac{2}{3}} {\\left(3 \\, \\sqrt{13} \\sqrt{2} + 22\\right)}^{\\frac{1}{3}} + \\frac{10 \\cdot 4^{\\frac{1}{3}}}{{\\left(3 \\, \\sqrt{13} \\sqrt{2} + 22\\right)}^{\\frac{1}{3}}} + 4\\right)}^{5}</script></html>"
      ],
      "text/plain": [
       "-1/7962624*(4^(2/3)*(3*sqrt(13)*sqrt(2) + 22)^(1/3)*(I*sqrt(3) + 1) - 10*4^(1/3)*(I*sqrt(3) - 1)/(3*sqrt(13)*sqrt(2) + 22)^(1/3) - 8)^5 - 1/7962624*(4^(2/3)*(3*sqrt(13)*sqrt(2) + 22)^(1/3)*(-I*sqrt(3) + 1) - 10*4^(1/3)*(-I*sqrt(3) - 1)/(3*sqrt(13)*sqrt(2) + 22)^(1/3) - 8)^5 + 1/248832*(4^(2/3)*(3*sqrt(13)*sqrt(2) + 22)^(1/3) + 10*4^(1/3)/(3*sqrt(13)*sqrt(2) + 22)^(1/3) + 4)^5"
      ]
     },
     "execution_count": 9,
     "metadata": {},
     "output_type": "execute_result"
    }
   ],
   "source": [
    "X3 = expand(X2*2 + 3*(a-1)*X1)\n",
    "display(X3)\n",
    "r1 = a.subs(solve(X3==0,a)[0])\n",
    "r2 = a.subs(solve(X3==0,a)[1])\n",
    "r3 = a.subs(solve(X3==0,a)[2])\n",
    "display(r1,r2,r3)"
   ]
  },
  {
   "cell_type": "markdown",
   "metadata": {},
   "source": [
    "Due to the symmetry of our initial equations, $b,c \\in \\{r_1,r_2,r_3\\}$ as well.\n",
    "Finally we know from $a + b + c = 1$, that $a=b=c$ cannot be a solution.\n",
    "Further, if one of the variables is complex (e.g. $=r_1$), then it has to be balanced by its conjugate (e.g. $r_2$) -- otherwise the imaginary part of the sum $a+b+c$ is nonzero.\n",
    "This means that $a = r_1, b=r_2, c=r_3$ and their permutations are the only possible solutions.\n",
    "\n",
    "Let's check this:"
   ]
  },
  {
   "cell_type": "code",
   "execution_count": 24,
   "metadata": {},
   "outputs": [
    {
     "data": {
      "text/html": [
       "<html><script type=\"math/tex; mode=display\">\\newcommand{\\Bold}[1]{\\mathbf{#1}}\\verb|(1-1.11022302463e-16j)|</script></html>"
      ],
      "text/plain": [
       "(0.9999999999999999-1.1102230246251565e-16j)"
      ]
     },
     "metadata": {},
     "output_type": "display_data"
    },
    {
     "data": {
      "text/html": [
       "<html><script type=\"math/tex; mode=display\">\\newcommand{\\Bold}[1]{\\mathbf{#1}}\\verb|(2+0j)|</script></html>"
      ],
      "text/plain": [
       "(2+0j)"
      ]
     },
     "metadata": {},
     "output_type": "display_data"
    },
    {
     "data": {
      "text/html": [
       "<html><script type=\"math/tex; mode=display\">\\newcommand{\\Bold}[1]{\\mathbf{#1}}\\verb|(3+0j)|</script></html>"
      ],
      "text/plain": [
       "(3+0j)"
      ]
     },
     "metadata": {},
     "output_type": "display_data"
    },
    {
     "data": {
      "text/html": [
       "<html><script type=\"math/tex; mode=display\">\\newcommand{\\Bold}[1]{\\mathbf{#1}}\\verb|(6+0j)|</script></html>"
      ],
      "text/plain": [
       "(6+0j)"
      ]
     },
     "metadata": {},
     "output_type": "display_data"
    }
   ],
   "source": [
    "display(complex(r1^1+r2^1+r3^1),\n",
    "        complex(r1^2+r2^2+r3^2),\n",
    "        complex(r1^3+r2^3+r3^3),\n",
    "        complex(r1^5+r2^5+r3^5))"
   ]
  },
  {
   "cell_type": "markdown",
   "metadata": {},
   "source": [
    "Thus $a^5+b^5+c^5 = 6$.\n",
    "\n",
    "For the curious ones: $a^4+b^4+c^4 = 4+\\frac{1}{6}$."
   ]
  },
  {
   "cell_type": "code",
   "execution_count": 28,
   "metadata": {},
   "outputs": [
    {
     "data": {
      "text/html": [
       "<html><script type=\"math/tex; mode=display\">\\newcommand{\\Bold}[1]{\\mathbf{#1}}\\verb|(4.16666666667+0j)|</script></html>"
      ],
      "text/plain": [
       "(4.166666666666666+0j)"
      ]
     },
     "metadata": {},
     "output_type": "display_data"
    }
   ],
   "source": [
    "display(complex(r1^4+r2^4+r3^4))"
   ]
  }
 ],
 "metadata": {
  "kernelspec": {
   "display_name": "SageMath 8.7",
   "language": "",
   "name": "sagemath"
  },
  "language_info": {
   "codemirror_mode": {
    "name": "ipython",
    "version": 2
   },
   "file_extension": ".py",
   "mimetype": "text/x-python",
   "name": "python",
   "nbconvert_exporter": "python",
   "pygments_lexer": "ipython2",
   "version": "2.7.16"
  }
 },
 "nbformat": 4,
 "nbformat_minor": 2
}
